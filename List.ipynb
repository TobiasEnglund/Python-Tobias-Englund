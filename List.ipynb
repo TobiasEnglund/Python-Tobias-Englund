{
 "cells": [
  {
   "cell_type": "markdown",
   "metadata": {},
   "source": [
    "# List\n",
    "\n",
    "* Lists are one of 4 built-in data types in Python used to store collections of data, the other 3 are Tuple, Set, and Dictionary, all with different qualities and usage.\n",
    "* Lists are used to store multiple items in a single variable.\n",
    "* Lists are created using square brackets. []\n",
    "* List items are ordered, changeable (mutable), and allow duplicate values."
   ]
  },
  {
   "cell_type": "code",
   "execution_count": null,
   "metadata": {},
   "outputs": [],
   "source": [
    "fruits = [\"apple\", \"banana\", \"cherry\", \"orange\", \"apple\"]\n",
    "\n",
    "print(f\"{fruits = }\")\n",
    "print(f\"len(fruits) = {len(fruits)}\")\n",
    "print(f\"{fruits.count('apple') = }\")\n",
    "\n",
    "fruits.append('melon')\n",
    "\n",
    "print(f\"{fruits = }\")"
   ]
  },
  {
   "cell_type": "markdown",
   "metadata": {},
   "source": [
    "# Mini-uppgift\n",
    "Skriv ett program som ber användaren mata in färger, en i taget, tills användarens input är tom, och när inmatning är slut så skrivs listan ut, samt hur många färger det är i listan."
   ]
  },
  {
   "cell_type": "code",
   "execution_count": 7,
   "metadata": {},
   "outputs": [],
   "source": [
    "# Create a list of colors\n",
    "colors = []\n",
    "\n",
    "# A loop until user input is blank (Enter)\n",
    "while True:\n",
    "    color = input(\"Please enter a color (e.g blue, red).\")\n",
    "    \n",
    "    if color == \"\":\n",
    "        break\n",
    "    \n",
    "    colors.append(color)\n",
    "    \n",
    "# Print results\n",
    "print(colors)\n",
    "print(f\"len(colors) = {len(colors)}\")\n",
    "    "
   ]
  },
  {
   "cell_type": "markdown",
   "metadata": {},
   "source": [
    "# Good Practises Python\n",
    "\n",
    "* snake_case\n",
    "* list_of_students\n",
    "\n",
    "**DRY** = Don't Repeat Yourself !!!\n",
    "\n",
    "**Maintainability**: Use descriptive ***comments*** (#)"
   ]
  }
 ],
 "metadata": {
  "kernelspec": {
   "display_name": "Python 3",
   "language": "python",
   "name": "python3"
  },
  "language_info": {
   "codemirror_mode": {
    "name": "ipython",
    "version": 3
   },
   "file_extension": ".py",
   "mimetype": "text/x-python",
   "name": "python",
   "nbconvert_exporter": "python",
   "pygments_lexer": "ipython3",
   "version": "3.11.5"
  },
  "orig_nbformat": 4
 },
 "nbformat": 4,
 "nbformat_minor": 2
}
