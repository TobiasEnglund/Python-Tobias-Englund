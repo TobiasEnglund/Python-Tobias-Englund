{
 "cells": [
  {
   "cell_type": "markdown",
   "metadata": {},
   "source": [
    "# Data types\n",
    "\n",
    "- **string** (text)\n",
    "- **int** (integer, heltal)\n",
    "- **float** (floating point, flyttal (decimaltal))\n",
    "- **Bool** (boolean, True/False)\n"
   ]
  },
  {
   "cell_type": "code",
   "execution_count": 56,
   "metadata": {},
   "outputs": [
    {
     "name": "stdout",
     "output_type": "stream",
     "text": [
      "My name is Tobias\n",
      "name is of the type <class 'str'>\n",
      "8 and of the type <class 'int'>\n",
      "myBool is True and of the type <class 'bool'>\n",
      "myNum = 8\n",
      "myNum + 5 = 13\n"
     ]
    }
   ],
   "source": [
    "name = \"Tobias\"\n",
    "print(\"My name is \" + str(name))\n",
    "print(\"name is of the type \" + str(type(name)))\n",
    "myFloat = 8\n",
    "print(str(myFloat) + \" and of the type \" + str(type(myFloat)))\n",
    "myBool = True\n",
    "print(\"myBool is \" + str(myBool) + \" and of the type \" + str(type(myBool)))\n",
    "myNum = \"8\"\n",
    "print(\"myNum = \" + myNum)\n",
    "print(\"myNum + 5 = \" + str(int(myNum) + 5))"
   ]
  },
  {
   "cell_type": "markdown",
   "metadata": {},
   "source": []
  },
  {
   "cell_type": "markdown",
   "metadata": {},
   "source": [
    "- del() = delete a variable \n",
    "- input() = ask for input"
   ]
  },
  {
   "cell_type": "code",
   "execution_count": 58,
   "metadata": {},
   "outputs": [
    {
     "name": "stdout",
     "output_type": "stream",
     "text": [
      "The variable userName is of the type: str\n",
      "Your name is: Tobias\n"
     ]
    }
   ],
   "source": [
    "userNameType = type(userName)\n",
    "userName = input(\"Enter your name here: \")\n",
    "if type(userName) == str:\n",
    "    userNameType = \"str\"\n",
    "    \n",
    "print(\"The variable userName is of the type: \" + userNameType)\n",
    "print(\"Your name is: \" + userName)\n"
   ]
  },
  {
   "cell_type": "markdown",
   "metadata": {},
   "source": [
    "# Simple python exercises\n",
    "\n",
    "### Exercise 1: Odd/even:\n",
    "\n",
    "1. Take an integer input from the user and store it in a variable 'number'.\n",
    "2. Use an if/else statement to check if 'number' is divisible by 2.\n",
    "    1. If yes, print \"The number is even.\"\n",
    "    2. Else, print \"The number is odd.\""
   ]
  },
  {
   "cell_type": "code",
   "execution_count": 64,
   "metadata": {},
   "outputs": [
    {
     "name": "stdout",
     "output_type": "stream",
     "text": [
      "Your number: 8, which is an even number.\n"
     ]
    }
   ],
   "source": [
    "number = int(input())\n",
    "if number % 2 == 0:\n",
    "    print(\"Your number: \" + str(number) + \", which is an even number.\")\n",
    "else:\n",
    "    print(\"Your number: \" + str(number) + \", which is an odd number.\")"
   ]
  },
  {
   "cell_type": "markdown",
   "metadata": {},
   "source": [
    "### Exercise 2: Simple calculator\n",
    "\n",
    "1. Take the first number as input and store it in a variable 'number1'.\n",
    "2. Take the operator as input and store it in a variable 'operator'.\n",
    "3. Take the second number as input and store it in a variable 'number2'.\n",
    "4. Use if/else statements to perform the operation based on the operator.\n",
    "    1. If operator is '+', print number1 + number2.\n",
    "    2. Else if operator is '-', print number1 - number2.\n",
    "    3. Else if operator is '*', print number1 * number2.\n",
    "    4. Else if operator is '/', check if number2 is 0.\n",
    "        1. If yes, print \"Cannot divide by zero.\"\n",
    "        2. Else, print number1 / number2.\n",
    "    5. Else, print \"Invalid operator.\""
   ]
  },
  {
   "cell_type": "code",
   "execution_count": 67,
   "metadata": {},
   "outputs": [
    {
     "name": "stdout",
     "output_type": "stream",
     "text": [
      "13\n"
     ]
    }
   ],
   "source": [
    "number1 = int(input())\n",
    "operator = input()\n",
    "number2 = int(input())\n",
    "if operator == \"+\":\n",
    "    print(number1 + number2)\n",
    "elif operator == \"-\":\n",
    "    print(number1 - number2)\n",
    "elif operator == \"*\":\n",
    "    print(number1 * number2)\n",
    "elif operator == \"/\":\n",
    "    if number2 == 0:\n",
    "        print(\"Cannot divide by zero.\")\n",
    "    else:\n",
    "        print(number1 / number2)\n",
    "else:\n",
    "    print(\"Invalid operator.\")"
   ]
  },
  {
   "cell_type": "markdown",
   "metadata": {},
   "source": [
    "### Exercise 3: Temperature Converter\n",
    "\n",
    "1. Ask the user if they want to convert from Fahrenheit to Celsius or from Celsius to Fahrenheit. Store the choice in a variable 'choice'.\n",
    "2. Take a temperature value as input and store it in a variable 'temperature'.\n",
    "3. Use an if/else statement to check the 'choice'.\n",
    "    1. If choice is \"Fahrenheit to Celsius\",\n",
    "        1. Convert the temperature to Celsius using the formula (temperature - 32) * (5/9).\n",
    "        2. Print the converted temperature.\n",
    "    2. Else if choice is \"Celsius to Fahrenheit\",\n",
    "        1. Convert the temperature to Fahrenheit using the formula (temperature * 9/5) + 32.\n",
    "        2. Print the converted temperature.\n",
    "    3. Else, print \"Invalid choice.\""
   ]
  },
  {
   "cell_type": "code",
   "execution_count": null,
   "metadata": {},
   "outputs": [],
   "source": [
    "print(\"Would you like to convert from Fahrenheit to Celsius or from Celsius to Fahrenheit?\")\n",
    "choice = input()\n",
    "print(\"What temperature would you like to convert?\")\n",
    "temperature = input()"
   ]
  },
  {
   "cell_type": "markdown",
   "metadata": {},
   "source": [
    "### Exercise 4: Age Classifier\n",
    "\n",
    "1. Take an age as input from the user and store it in a variable 'age'.\n",
    "2. Use an if/elif/else statement to classify the person's life stage.\n",
    "    1. If age is less than 2, print \"Infant\".\n",
    "    2. Else if age is between 2 and 12 (inclusive), print \"Child\".\n",
    "    3. Else if age is between 13 and 19 (inclusive), print \"Teenager\".\n",
    "    4. Else if age is between 20 and 59 (inclusive), print \"Adult\".\n",
    "    5. Else if age is 60 or above, print \"Senior Citizen\".\n",
    "    6. Else, print \"Invalid age.\""
   ]
  },
  {
   "cell_type": "code",
   "execution_count": null,
   "metadata": {},
   "outputs": [],
   "source": []
  }
 ],
 "metadata": {
  "kernelspec": {
   "display_name": "Python 3",
   "language": "python",
   "name": "python3"
  },
  "language_info": {
   "codemirror_mode": {
    "name": "ipython",
    "version": 3
   },
   "file_extension": ".py",
   "mimetype": "text/x-python",
   "name": "python",
   "nbconvert_exporter": "python",
   "pygments_lexer": "ipython3",
   "version": "3.11.5"
  },
  "orig_nbformat": 4
 },
 "nbformat": 4,
 "nbformat_minor": 2
}
