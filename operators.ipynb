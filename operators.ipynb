{
 "cells": [
  {
   "cell_type": "markdown",
   "metadata": {},
   "source": [
    "# Operators\n",
    "\n",
    "## Arithmetic\n",
    "- Addition, Subtraction, Multiplication, Division \n",
    "- Floor Division //\n",
    "- Modulus %\n",
    "- Exponentiation **\n",
    "- Divmod(x, y)"
   ]
  },
  {
   "cell_type": "code",
   "execution_count": null,
   "metadata": {},
   "outputs": [],
   "source": [
    "num1 = 9\n",
    "num2 = 2\n",
    "if num1 > num2:\n",
    "    print(\"num1 is greater than num2\")\n",
    "else:\n",
    "    print(\"num2 is greater than num1\")\n",
    "print(num1 + num2)\n",
    "print(9 % 2)\n",
    "print(9 // 2)\n",
    "print(divmod(5, 2))"
   ]
  },
  {
   "cell_type": "markdown",
   "metadata": {},
   "source": [
    "# Comparison Operators\n",
    "\n",
    "- Equal ==\n",
    "- Not Equal !=\n",
    "- Greater than, less than\n",
    "- Less or equal <=\n",
    "- Greater or equal >="
   ]
  },
  {
   "cell_type": "code",
   "execution_count": null,
   "metadata": {},
   "outputs": [],
   "source": [
    "print(num1 == num2)\n",
    "print(num1 != num2)\n",
    "print(num1 >= num2)\n",
    "print(num1 <= num2)\n",
    "print(num1 > num2)\n",
    "print(num1 < num2)"
   ]
  },
  {
   "cell_type": "markdown",
   "metadata": {},
   "source": [
    "# Logical Operators\n",
    "\n",
    "- and (true if both are true)\n",
    "- or (true if one or both are true)\n",
    "- not (true if false, false if true)"
   ]
  },
  {
   "cell_type": "code",
   "execution_count": 11,
   "metadata": {},
   "outputs": [
    {
     "name": "stdout",
     "output_type": "stream",
     "text": [
      "False\n",
      "True\n",
      "True\n",
      "Tobias is better than everyone else.\n"
     ]
    }
   ],
   "source": [
    "print(True and False)\n",
    "print(True or False)\n",
    "print(not False)\n",
    "\n",
    "# This is a test to see if I'm better than everyone else.\n",
    "\n",
    "if \"Tobias\" > \"Everyone else\":\n",
    "    print(\"Tobias is better than everyone else.\")\n",
    "else:\n",
    "    \"At least one person is better than Tobias.\""
   ]
  }
 ],
 "metadata": {
  "kernelspec": {
   "display_name": "Python 3",
   "language": "python",
   "name": "python3"
  },
  "language_info": {
   "codemirror_mode": {
    "name": "ipython",
    "version": 3
   },
   "file_extension": ".py",
   "mimetype": "text/x-python",
   "name": "python",
   "nbconvert_exporter": "python",
   "pygments_lexer": "ipython3",
   "version": "3.11.5"
  },
  "orig_nbformat": 4
 },
 "nbformat": 4,
 "nbformat_minor": 2
}
